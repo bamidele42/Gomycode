{
 "cells": [
  {
   "cell_type": "code",
   "execution_count": 4,
   "id": "14df4759",
   "metadata": {},
   "outputs": [
    {
     "name": "stdout",
     "output_type": "stream",
     "text": [
      "0\n",
      "1\n",
      "2\n",
      "3\n",
      "4\n",
      "5\n"
     ]
    }
   ],
   "source": [
    "count = 0\n",
    "\n",
    "while count <= 5:\n",
    "    print(count)\n",
    "    count = count + 1"
   ]
  },
  {
   "cell_type": "code",
   "execution_count": 7,
   "id": "1ee294a9",
   "metadata": {},
   "outputs": [
    {
     "name": "stdout",
     "output_type": "stream",
     "text": [
      "Enter 'quit' to exit: quit\n"
     ]
    }
   ],
   "source": [
    "statement = True\n",
    "while statement:\n",
    "    user_input = input(\"Enter 'quit' to exit: \")\n",
    "    if user_input == \"quit\":\n",
    "        break\n",
    "    else:\n",
    "        print(\"You entered:\", user_input)   "
   ]
  },
  {
   "cell_type": "code",
   "execution_count": 12,
   "id": "9228cfb0",
   "metadata": {},
   "outputs": [
    {
     "name": "stdout",
     "output_type": "stream",
     "text": [
      "This is loop iteration 1\n",
      "\n",
      "This is loop iteration 2\n",
      "\n",
      "This is loop iteration 3\n",
      "\n",
      "This is loop iteration 4\n",
      "\n"
     ]
    }
   ],
   "source": [
    "counter = 0\n",
    "while counter <= 3:\n",
    "    print(\"This is loop iteration\", counter + 1)\n",
    "    print()\n",
    "    counter = counter + 1"
   ]
  },
  {
   "cell_type": "code",
   "execution_count": 13,
   "id": "553289b7",
   "metadata": {},
   "outputs": [
    {
     "name": "stdout",
     "output_type": "stream",
     "text": [
      "The sum is:  55\n"
     ]
    }
   ],
   "source": [
    "# Using while loop to sum numbers from 1 to 10.\n",
    "total = 0\n",
    "num = 1\n",
    "while num <= 10:\n",
    "    total = total + num\n",
    "    num = num + 1\n",
    "print(\"The sum is: \", total)"
   ]
  },
  {
   "cell_type": "code",
   "execution_count": 14,
   "id": "7fc71ba2",
   "metadata": {},
   "outputs": [
    {
     "name": "stdout",
     "output_type": "stream",
     "text": [
      "1\n",
      "2\n",
      "3\n",
      "4\n",
      "5\n",
      "6\n",
      "7\n",
      "8\n",
      "9\n",
      "10\n"
     ]
    }
   ],
   "source": [
    "num = 1\n",
    "while num <= 10:\n",
    "    print(num)\n",
    "    num = num + 1"
   ]
  },
  {
   "cell_type": "code",
   "execution_count": null,
   "id": "3725a2bf",
   "metadata": {},
   "outputs": [],
   "source": [
    "small = 15\n",
    "medium = 20\n",
    "large = 25"
   ]
  },
  {
   "cell_type": "code",
   "execution_count": null,
   "id": "cd816d60",
   "metadata": {},
   "outputs": [],
   "source": []
  },
  {
   "cell_type": "code",
   "execution_count": null,
   "id": "0c7eb0f3",
   "metadata": {},
   "outputs": [],
   "source": [
    "\n",
    "\n",
    "pepperoni_small = 2\n",
    "pepperoni_medium = 3\n",
    "\n",
    "extra_cheese = 1\n",
    "\n",
    "order1 = small + pepperoni_small + extra_cheese\n",
    "order2 = medium + pepperoni_small + extra_cheese\n",
    "order3 = large + pepperoni_small + extra_cheese\n",
    "order4 = small + pepperoni_small\n",
    "order5 = medium + pepperoni_small\n",
    "order6 = large + pepperoni_small\n",
    "order7 = small + extra_cheese\n",
    "order8 = medium + extra_cheese\n",
    "order9 = large + extra_cheese\n",
    "order10 = small\n",
    "order20 = medium\n",
    "order30 = large\n",
    "\n",
    "print(\"Welcome to Python Pizza Deliveries\")\n",
    "size = input(\"what size of pizza do you want? small or medium or large? \")\n",
    "add_pepperoni = input(\"Do you want pepperoni? Y or N? \")\n",
    "extra_cheese = input('Do you want cheese? Y or N? ')\n",
    "\n",
    "if size == 'small' and add_pepperoni == 'N' and extra_cheese == 'N':\n",
    "  print(f\"your total bill is ${order10}\")\n",
    "elif size == 'medium' and add_pepperoni == 'N' and extra_cheese == 'N':\n",
    "  print(f\"your total bill is ${order20}\")\n",
    "elif size == 'large' and add_pepperoni == 'N' and extra_cheese == 'N':\n",
    "  print(f\"your total bill is ${order30}\")\n",
    "elif size == 'small' and add_pepperoni == 'Y' and extra_cheese == 'Y':\n",
    "  print(f\"your total bill is ${order1}\")\n",
    "elif size == 'medium' and add_pepperoni == 'Y' and extra_cheese == 'Y':\n",
    "  print(f\"your total bill is ${order2}\")\n",
    "elif size == 'large' and add_pepperoni == 'Y' and extra_cheese == 'Y':\n",
    "  print(f\"your total bill is ${order3}\")\n",
    "elif size == 'small' and add_pepperoni == 'Y' and extra_cheese == 'N':\n",
    "  print(f\"your total bill is ${order4}\")\n",
    "elif size == 'medium' and add_pepperoni == 'Y' and extra_cheese == 'N':\n",
    "  print(f\"your total bill is ${order5}\")\n",
    "elif size == 'large' and add_pepperoni == 'Y' and extra_cheese == 'N':\n",
    "  print(f\"your total bill is ${order6}\")\n",
    "elif size == 'small' and add_pepperoni == 'N' and extra_cheese == 'Y':\n",
    "  print(f\"your total bill is ${order7}\")\n",
    "elif size == 'medium' and add_pepperoni == 'N' and extra_cheese == 'Y':\n",
    "  print(f\"your total bill is ${order8}\")\n",
    "elif size == 'large' and add_pepperoni == 'N' and extra_cheese == 'Y':\n",
    "  print(f\"your total bill is ${order9}\")\n",
    "else:\n",
    "  print(\"Please contact customer service for custom order.\")\n"
   ]
  },
  {
   "cell_type": "markdown",
   "id": "b922fa6f",
   "metadata": {},
   "source": [
    "#### – Creating a new database\n"
   ]
  },
  {
   "cell_type": "code",
   "execution_count": null,
   "id": "222adbd9",
   "metadata": {},
   "outputs": [],
   "source": [
    "\n",
    "Create Database Wine_DB;\n",
    "\n",
    "– Creating Tables\n",
    "Create Table Wine(\n",
    "NumW int Not Null,\n",
    "Category VarChar(50) Not Null,\n",
    "Year Date Not Null,\n",
    "Degree int Not Null,\n",
    "Primary Key(NumW));\n"
   ]
  }
 ],
 "metadata": {
  "kernelspec": {
   "display_name": "Python 3 (ipykernel)",
   "language": "python",
   "name": "python3"
  },
  "language_info": {
   "codemirror_mode": {
    "name": "ipython",
    "version": 3
   },
   "file_extension": ".py",
   "mimetype": "text/x-python",
   "name": "python",
   "nbconvert_exporter": "python",
   "pygments_lexer": "ipython3",
   "version": "3.9.15"
  }
 },
 "nbformat": 4,
 "nbformat_minor": 5
}
